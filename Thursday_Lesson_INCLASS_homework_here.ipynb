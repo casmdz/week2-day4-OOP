{
 "cells": [
  {
   "cell_type": "markdown",
   "metadata": {},
   "source": [
    "# Object-Oriented-Programming (OOP)"
   ]
  },
  {
   "cell_type": "markdown",
   "metadata": {},
   "source": [
    "## Tasks Today:\n",
    "\n",
    "   \n",
    "\n",
    "1) <b>Creating a Class (Initializing/Declaring)</b> <br>\n",
    "2) <b>Using a Class (Instantiating)</b> <br>\n",
    " &nbsp;&nbsp;&nbsp;&nbsp; a) Creating One Instance <br>\n",
    " &nbsp;&nbsp;&nbsp;&nbsp; b) Creating Multiple Instances <br>\n",
    " &nbsp;&nbsp;&nbsp;&nbsp; c) In-Class Exercise #1 - Create a Class 'Car' and instantiate three different makes of cars <br>\n",
    "3) <b>The \\__init\\__() Method</b> <br>\n",
    " &nbsp;&nbsp;&nbsp;&nbsp; a) The 'self' Attribute <br>\n",
    "4) <b>Class Attributes</b> <br>\n",
    " &nbsp;&nbsp;&nbsp;&nbsp; a) Initializing Attributes <br>\n",
    " &nbsp;&nbsp;&nbsp;&nbsp; b) Setting an Attribute Outside of the \\__init\\__() Method <br>\n",
    " &nbsp;&nbsp;&nbsp;&nbsp; c) Setting Defaults for Attributes <br>\n",
    " &nbsp;&nbsp;&nbsp;&nbsp; d) Accessing Class Attributes <br>\n",
    " &nbsp;&nbsp;&nbsp;&nbsp; e) Changing Class Attributes <br>\n",
    " &nbsp;&nbsp;&nbsp;&nbsp; f) In-Class Exercise #2 - Add a color and wheels attribute to your 'Car' class <br>\n",
    "5) <b>Class Methods</b> <br>\n",
    " &nbsp;&nbsp;&nbsp;&nbsp; a) Creating <br>\n",
    " &nbsp;&nbsp;&nbsp;&nbsp; b) Calling <br>\n",
    " &nbsp;&nbsp;&nbsp;&nbsp; c) Modifying an Attribute's Value Through a Method <br>\n",
    " &nbsp;&nbsp;&nbsp;&nbsp; d) Incrementing an Attribute's Value Through a Method <br>\n",
    " &nbsp;&nbsp;&nbsp;&nbsp; e) In-Class Exercise #3 - Add a method that prints the cars color and wheel number, then call them <br>\n",
    "6) <b>Inheritance</b> <br>\n",
    " &nbsp;&nbsp;&nbsp;&nbsp; a) Syntax for Inheriting from a Parent Class <br>\n",
    " &nbsp;&nbsp;&nbsp;&nbsp; b) The \\__init\\__() Method for a Child Class (super()) <br>\n",
    " &nbsp;&nbsp;&nbsp;&nbsp; c) Defining Attributes and Methods for the Child Class <br>\n",
    " &nbsp;&nbsp;&nbsp;&nbsp; d) Method Overriding <br>\n",
    " &nbsp;&nbsp;&nbsp;&nbsp; e) In-Class Exercise #4 - Create a class 'Ford' that inherits from 'Car' class and initialize it as a Blue Ford Explorer with 4 wheels using the super() method <br>\n",
    "7) <b>Classes as Attributes</b> <br>\n",
    "8) <b>Exercises</b> <br>\n",
    " &nbsp;&nbsp;&nbsp;&nbsp; a) Exercise #1 - Turn the shopping cart program from yesterday into an object-oriented program <br>"
   ]
  },
  {
   "cell_type": "markdown",
   "metadata": {},
   "source": [
    "## Creating a Class (Initializing/Declaring)\n",
    "<p>When creating a class, function, or even a variable you are initializing that object. Initializing and Declaring occur at the same time in Python, whereas in lower level languages you have to declare an object before initializing it. This is the first step in the process of using a class.</p>"
   ]
  },
  {
   "cell_type": "code",
   "execution_count": 4,
   "metadata": {},
   "outputs": [],
   "source": [
    "class Car():\n",
    "    wheels = 4\n",
    "    color = 'blue'"
   ]
  },
  {
   "cell_type": "markdown",
   "metadata": {},
   "source": [
    "## Using a Class (Instantiating)\n",
    "<p>The process of creating a class is called <i>Instantiating</i>. Each time you create a variable of that type of class, it is referred to as an <i>Instance</i> of that class. This is the second step in the process of using a class.</p>"
   ]
  },
  {
   "cell_type": "markdown",
   "metadata": {},
   "source": [
    "##### Creating One Instance"
   ]
  },
  {
   "cell_type": "code",
   "execution_count": null,
   "metadata": {},
   "outputs": [],
   "source": [
    "ford = Car()"
   ]
  },
  {
   "cell_type": "markdown",
   "metadata": {},
   "source": [
    "##### Creating Multiple Instances"
   ]
  },
  {
   "cell_type": "code",
   "execution_count": null,
   "metadata": {},
   "outputs": [],
   "source": []
  },
  {
   "cell_type": "markdown",
   "metadata": {},
   "source": [
    "##### In-Class Exercise #1 - Create a Class 'Car' and Instantiate three different makes of cars"
   ]
  },
  {
   "cell_type": "code",
   "execution_count": null,
   "metadata": {},
   "outputs": [],
   "source": []
  },
  {
   "cell_type": "markdown",
   "metadata": {},
   "source": [
    "## The \\__init\\__() Method <br>\n",
    "<p>This method is used in almost every created class, and called only once upon the creation of the class instance. This method will initialize all variables needed for the object.</p>"
   ]
  },
  {
   "cell_type": "code",
   "execution_count": 6,
   "metadata": {},
   "outputs": [
    {
     "name": "stdout",
     "output_type": "stream",
     "text": [
      "Honda\n",
      "Civic\n",
      "1999\n",
      "8\n",
      "False\n"
     ]
    },
    {
     "data": {
      "text/plain": [
       "{'make': 'Honda',\n",
       " 'model': 'Civic',\n",
       " 'year': 1999,\n",
       " 'convertible': False,\n",
       " 'wheels': 8}"
      ]
     },
     "execution_count": 6,
     "metadata": {},
     "output_type": "execute_result"
    }
   ],
   "source": [
    "class Car(): #just because the class exists doesnt mean we have to instantiate right away\n",
    "    wheels=4 #any attribute thats not under the dict doesnt show up\n",
    "    def __init__(self, make, model, y):\n",
    "        self.make = make\n",
    "        self.model = model\n",
    "        self.year = y\n",
    "        self.convertible = False\n",
    "        self.wheels = 8\n",
    "\n",
    "x=Car('Honda', 'Civic', 1999)\n",
    "print(x.make)\n",
    "print(x.model)\n",
    "print(x.year)\n",
    "\n",
    "brandt = Car('Tesla', 'Cybertruck', 2023)\n",
    "brandt.make\n",
    "\n",
    "print(x.wheels)\n",
    "print(brandt.convertible)\n",
    "\n",
    "x.__dict__"
   ]
  },
  {
   "cell_type": "markdown",
   "metadata": {},
   "source": [
    "##### The 'self' Attribute <br>\n",
    "<p>This attribute is required to keep track of specific instance's attributes. Without the self attribute, the program would not know how to reference or keep track of an instance's attributes.</p>"
   ]
  },
  {
   "cell_type": "code",
   "execution_count": null,
   "metadata": {},
   "outputs": [],
   "source": [
    "# see above"
   ]
  },
  {
   "cell_type": "markdown",
   "metadata": {},
   "source": [
    "## Class Attributes <br>\n",
    "<p>While variables are inside of a class, they are referred to as attributes and not variables. When someone says 'attribute' you know they're speaking about a class. Attributes can be initialized through the init method, or outside of it.</p>"
   ]
  },
  {
   "cell_type": "markdown",
   "metadata": {},
   "source": [
    "##### Initializing Attributes"
   ]
  },
  {
   "cell_type": "code",
   "execution_count": null,
   "metadata": {},
   "outputs": [],
   "source": [
    "# see above"
   ]
  },
  {
   "cell_type": "markdown",
   "metadata": {},
   "source": [
    "##### Accessing Class Attributes"
   ]
  },
  {
   "cell_type": "code",
   "execution_count": null,
   "metadata": {
    "scrolled": true
   },
   "outputs": [],
   "source": [
    "# See Above"
   ]
  },
  {
   "cell_type": "markdown",
   "metadata": {},
   "source": [
    "##### Setting Defaults for Attributes"
   ]
  },
  {
   "cell_type": "code",
   "execution_count": null,
   "metadata": {},
   "outputs": [],
   "source": []
  },
  {
   "cell_type": "markdown",
   "metadata": {},
   "source": [
    "##### Changing Class Attributes <br>\n",
    "<p>Keep in mind there are global class attributes and then there are attributes only available to each class instance which won't effect other classes.</p>"
   ]
  },
  {
   "cell_type": "code",
   "execution_count": null,
   "metadata": {},
   "outputs": [],
   "source": []
  },
  {
   "cell_type": "code",
   "execution_count": null,
   "metadata": {},
   "outputs": [],
   "source": []
  },
  {
   "cell_type": "markdown",
   "metadata": {},
   "source": [
    "##### In-Class Exercise #2 - Add a doors and seats attribute to your 'Car' class then print out two different instances with different doors and seats"
   ]
  },
  {
   "cell_type": "code",
   "execution_count": null,
   "metadata": {},
   "outputs": [],
   "source": []
  },
  {
   "cell_type": "markdown",
   "metadata": {},
   "source": [
    "## Class Methods <br>\n",
    "<p>While inside of a class, functions are referred to as 'methods'. If you hear someone mention methods, they're speaking about classes. Methods are essentially functions, but only callable on the instances of a class.</p>"
   ]
  },
  {
   "cell_type": "markdown",
   "metadata": {},
   "source": [
    "##### Creating"
   ]
  },
  {
   "cell_type": "code",
   "execution_count": 19,
   "metadata": {},
   "outputs": [
    {
     "name": "stdout",
     "output_type": "stream",
     "text": [
      "3\n",
      "6\n",
      "Hi my name is Goofy. I am a 6 years old Boston terrier\n"
     ]
    }
   ],
   "source": [
    "class Dog():\n",
    "    def __init__(self, name, b, age=0):\n",
    "        self.name = name\n",
    "        self.breed = b\n",
    "        self.age = age\n",
    "\n",
    "    #SETTER\n",
    "    def happyBirthday(self):\n",
    "        self.age += 1\n",
    "\n",
    "    def addAge(self, num):\n",
    "        self.age += num\n",
    "\n",
    "    def changeName(self, new_name):\n",
    "        self.name = new_name\n",
    "\n",
    "    #GETTER\n",
    "    \n",
    "    def myInfo(self):\n",
    "        string = f'Hi my name is {self.name}. I am a {self.age} years old {self.breed}'\n",
    "        print(string)\n",
    "        return string\n",
    "\n",
    "\n",
    "d1 = Dog('Budy', 'German shepard', 3)\n",
    "d2= Dog('Shoha', 'poodle', 90)\n",
    "d3 = Dog('Garfield', 'Boston terrier')\n",
    "print(d1.age)\n",
    "\n",
    "# Dog.happyBirthday(d1)\n",
    "d1.happyBirthday()\n",
    "\n",
    "# print(d3.age)\n",
    "# d3.addAge(6)\n",
    "#shorthand:\n",
    "Dog.addAge(d3, 6) \n",
    "#THIS IS WHERE SELF COMES FROM. (WHO IS DOING THE ACTION)\n",
    "print(d3.age)\n",
    "\n",
    "d3.changeName('Goofy')\n",
    "d3.myInfo()\n",
    "\n",
    "d3.name = 'Goofy'"
   ]
  },
  {
   "cell_type": "markdown",
   "metadata": {},
   "source": [
    "##### Calling"
   ]
  },
  {
   "cell_type": "code",
   "execution_count": null,
   "metadata": {},
   "outputs": [],
   "source": [
    "# See Above"
   ]
  },
  {
   "cell_type": "markdown",
   "metadata": {},
   "source": [
    "##### Modifying an Attribute's Value Through a Method"
   ]
  },
  {
   "cell_type": "code",
   "execution_count": null,
   "metadata": {},
   "outputs": [],
   "source": []
  },
  {
   "cell_type": "markdown",
   "metadata": {},
   "source": [
    "##### Incrementing an Attribute's Value Through a Method"
   ]
  },
  {
   "cell_type": "code",
   "execution_count": null,
   "metadata": {},
   "outputs": [],
   "source": [
    "# See Abovehsjdhakjsh"
   ]
  },
  {
   "cell_type": "markdown",
   "metadata": {},
   "source": [
    "##### In-Class Exercise #3 - Add a method that takes in three parameters of year, doors and seats and prints out a formatted print statement with make, model, year, seats, and doors"
   ]
  },
  {
   "cell_type": "code",
   "execution_count": 31,
   "metadata": {},
   "outputs": [
    {
     "name": "stdout",
     "output_type": "stream",
     "text": [
      "This car is from 2019 and is a Ford Explorer and has 4 and 5 seats\n"
     ]
    },
    {
     "data": {
      "text/plain": [
       "'This car is from 2019 and is a Ford Explorer and has 4 and 5 seats'"
      ]
     },
     "execution_count": 31,
     "metadata": {},
     "output_type": "execute_result"
    }
   ],
   "source": [
    "# Create class with 2 paramters inside of the __init__ which are make and model\n",
    "# Inside of the Car class create a method that has 4 parameter in total (self,year,door,seats)\n",
    "# Output: This car is from 2019 and is a Ford Expolorer and has 4 doors and 5 seats\n",
    "\n",
    "class myCar():\n",
    "    def __init__(self, make, model):\n",
    "        self.make = make\n",
    "        self.model =  model \n",
    "    \n",
    "\n",
    "    def carInfo(self, year, doors, seats):\n",
    "        # self.year = year\n",
    "        # self.door = door\n",
    "        # self.seats = seats\n",
    "        string = f'This car is from {year} and is a {self.make} {self.model} and has {doors} and {seats} seats'\n",
    "        print(string)\n",
    "        return string\n",
    "    \n",
    "Ford = myCar('Ford', 'Explorer')\n",
    "Ford.carInfo(2019, 4, 5)\n"
   ]
  },
  {
   "cell_type": "markdown",
   "metadata": {},
   "source": [
    "## Inheritance <br>\n",
    "<p>You can create a child-parent relationship between two classes by using inheritance. What this allows you to do is have overriding methods, but also inherit traits from the parent class. Think of it as an actual parent and child, the child will inherit the parent's genes, as will the classes in OOP</p>"
   ]
  },
  {
   "cell_type": "markdown",
   "metadata": {},
   "source": [
    "##### Syntax for Inheriting from a Parent Class"
   ]
  },
  {
   "cell_type": "code",
   "execution_count": 49,
   "metadata": {},
   "outputs": [
    {
     "name": "stdout",
     "output_type": "stream",
     "text": [
      "True\n",
      "99\n",
      "100\n",
      "99\n"
     ]
    }
   ],
   "source": [
    "class Animal():\n",
    "    def __init__(self, life):\n",
    "        self.alive = True\n",
    "        self.lifespan = life\n",
    "\n",
    "    def breathe(self):\n",
    "        print(\"...\") #this just shows the animal is breathing...\n",
    "\n",
    "\n",
    "class Dog():\n",
    "    #pass =who you inherent from\n",
    "    def __init__(self, name, life):\n",
    "        Animal.__init__(self, life)\n",
    "        self.name = name\n",
    "\n",
    "        \n",
    "class Cat(Animal):\n",
    "    def __init__(self, name, life ):\n",
    "        super().__init__(life) #if you call super, it calls things you inherit from\n",
    "        self.name = name\n",
    "\n",
    "    def talk(self):\n",
    "        print('meow')\n",
    "\n",
    "\n",
    "a1 = Animal(100)\n",
    "# d1= Dog(99)\n",
    "d1 = Dog('buddy', 99)\n",
    "a2 = Animal(50)\n",
    "\n",
    "print(d1.alive)# 'Dog' object has no attribute 'alive'\n",
    "print(d1.lifespan)\n",
    "# print(d1)\n",
    "# d1.breathe()\n",
    "print(a1.lifespan)\n",
    "\n",
    "c1 = Cat('Garfield', 99)\n",
    "print(c1.lifespan)\n",
    "\n"
   ]
  },
  {
   "cell_type": "markdown",
   "metadata": {},
   "source": [
    "##### The \\__init\\__() Method for a Child Class - super()"
   ]
  },
  {
   "cell_type": "code",
   "execution_count": null,
   "metadata": {
    "scrolled": true
   },
   "outputs": [],
   "source": []
  },
  {
   "cell_type": "markdown",
   "metadata": {},
   "source": [
    "##### Defining Attributes and Methods for the Child Class"
   ]
  },
  {
   "cell_type": "code",
   "execution_count": null,
   "metadata": {},
   "outputs": [],
   "source": [
    "# See Above"
   ]
  },
  {
   "cell_type": "markdown",
   "metadata": {},
   "source": [
    "##### Method Overriding"
   ]
  },
  {
   "cell_type": "code",
   "execution_count": null,
   "metadata": {},
   "outputs": [],
   "source": [
    "# See Above"
   ]
  },
  {
   "cell_type": "markdown",
   "metadata": {},
   "source": [
    "## Classes as Attributes <br>\n",
    "<p>Classes can also be used as attributes within another class. This is useful in situations where you need to keep variables locally stored, instead of globally stored.</p>"
   ]
  },
  {
   "cell_type": "code",
   "execution_count": null,
   "metadata": {},
   "outputs": [],
   "source": [
    "class Car():\n",
    "    def __init__(self, year, make, model, battery):\n",
    "        self.make = make\n",
    "        self.model =  model\n",
    "\n",
    "class Battery()"
   ]
  },
  {
   "cell_type": "markdown",
   "metadata": {},
   "source": [
    "# Exercises"
   ]
  },
  {
   "cell_type": "markdown",
   "metadata": {},
   "source": [
    "### Exercise 1 - Turn the shopping cart program from yesterday into an object-oriented program\n",
    "\n",
    "The comments in the cell below are there as a guide for thinking about the problem. However, if you feel a different way is best for you and your own thought process, please do what feels best for you by all means."
   ]
  },
  {
   "cell_type": "code",
   "execution_count": null,
   "metadata": {},
   "outputs": [],
   "source": []
  },
  {
   "cell_type": "code",
   "execution_count": 1,
   "metadata": {},
   "outputs": [
    {
     "name": "stdout",
     "output_type": "stream",
     "text": [
      "Here's your cart: \n",
      " You have 2 of banana\n",
      " You have 3 of choco\n",
      " You have 4 of cream\n",
      "What do you want to do? (\"Add item\"/ \"Delete item\"/ \"Check out\"/ OR \"Quit\") ?quit\n",
      "Thank you for using this program!\n"
     ]
    },
    {
     "ename": "NameError",
     "evalue": "name 'groceries' is not defined",
     "output_type": "error",
     "traceback": [
      "\u001b[1;31m---------------------------------------------------------------------------\u001b[0m",
      "\u001b[1;31mNameError\u001b[0m                                 Traceback (most recent call last)",
      "Cell \u001b[1;32mIn[1], line 55\u001b[0m\n\u001b[0;32m     50\u001b[0m     \u001b[38;5;28;01mreturn\u001b[39;00m\n\u001b[0;32m     53\u001b[0m yourBag()\n\u001b[1;32m---> 55\u001b[0m \u001b[38;5;28;01mfor\u001b[39;00m item, quantity \u001b[38;5;129;01min\u001b[39;00m \u001b[43mgroceries\u001b[49m\u001b[38;5;241m.\u001b[39mitems():\n\u001b[0;32m     56\u001b[0m     \u001b[38;5;28mprint\u001b[39m(\u001b[38;5;124m\"\u001b[39m\u001b[38;5;124mThis is your shopping cart\u001b[39m\u001b[38;5;124m\"\u001b[39m)\n\u001b[0;32m     57\u001b[0m     \u001b[38;5;28mprint\u001b[39m(\u001b[38;5;124mf\u001b[39m\u001b[38;5;124m'\u001b[39m\u001b[38;5;124m You have\u001b[39m\u001b[38;5;130;01m\\n\u001b[39;00m\u001b[38;5;124m \u001b[39m\u001b[38;5;132;01m{\u001b[39;00mquantity\u001b[38;5;132;01m}\u001b[39;00m\u001b[38;5;124m of \u001b[39m\u001b[38;5;132;01m{\u001b[39;00mitem\u001b[38;5;132;01m}\u001b[39;00m\u001b[38;5;124m'\u001b[39m)\n",
      "\u001b[1;31mNameError\u001b[0m: name 'groceries' is not defined"
     ]
    }
   ],
   "source": [
    "from IPython.display import clear_output\n",
    "# Ask the user four bits of input: Do you want to : Show/Add/Delete or Quit?\n",
    "\n",
    "\n",
    "def yourBag(): #1\n",
    "    groceries = {} #2\n",
    "\n",
    "    while True: #3\n",
    "        x = input('What do you want to do? (\"Add item\"/ \"Delete item\"/ \"Check out\"/ OR \"Quit\") ?') #4\n",
    "        if x.lower() == \"quit\": #5\n",
    "            print(\"Thank you for using this program!\")\n",
    "            break\n",
    "\n",
    "\n",
    "        elif x.lower() == \"add item\":\n",
    "            item = input(\"Enter what you'd like to add to your cart: \")\n",
    "            quantity = input(\"How many do you want to get?\")\n",
    "            groceries[item] = quantity #dict[key] = value\n",
    "            clear_output()\n",
    "            for item, quantity in groceries.items():\n",
    "                print(f'So far you have {quantity} of {item}')\n",
    "                \n",
    "             \n",
    "\n",
    "        elif x.lower() == \"delete item\":\n",
    "            clear_output()\n",
    "\n",
    "            print('So far you have')\n",
    "            for item, quantity in groceries.items():\n",
    "                print(f'{quantity} of {item}')\n",
    "            # print(f'{for item, quantity in groceries.items():{quantity}{item}}')\n",
    "            item = input(\"What would you like to delete?\")\n",
    "            \n",
    "            if item in groceries:\n",
    "                del groceries[item]\n",
    "            elif item not in groceries:\n",
    "                print(\"That's not in your cart.\")\n",
    "            else:\n",
    "                print(\"Invalid option, please try again.\")\n",
    "\n",
    "                \n",
    "        elif x.lower() == \"check out\":\n",
    "            clear_output()\n",
    "            print(\"Here's your cart: \") \n",
    "            for item, quantity in groceries.items():\n",
    "                print(f' You have {quantity} of {item}')\n",
    "\n",
    "        else:\n",
    "            print(\"Please try again\")\n",
    "    return\n",
    "\n",
    "\n",
    "yourBag()\n",
    "\n",
    "for item, quantity in groceries.items():\n",
    "    print(\"This is your shopping cart\")\n",
    "    print(f' You have\\n {quantity} of {item}')\n",
    "    print(\"Thanks for shopping with this program\")"
   ]
  },
  {
   "cell_type": "code",
   "execution_count": null,
   "metadata": {},
   "outputs": [],
   "source": [
    "# Create a class called cart that retains items and has methods to add, remove, and show\n",
    "#instead of one person going shopping, if it was implemented correctly, you can make many instances, \n",
    "#different people can go shopping at the same time using the same instances running independently \n",
    "\n"
   ]
  },
  {
   "cell_type": "code",
   "execution_count": 2,
   "metadata": {},
   "outputs": [
    {
     "name": "stdout",
     "output_type": "stream",
     "text": [
      "Here's your cart: \n",
      "You have 3 of banana\n",
      "You have 4 of choco\n",
      "You have sixteen of cats\n",
      "You have five of 21323\n",
      "What do you want to do? (\"Add item\"/ \"Delete item\"/ \"Check out\"/ OR \"Quit\") ?quit\n",
      "Thank you for using this program!\n"
     ]
    }
   ],
   "source": [
    "from IPython.display import clear_output\n",
    "\n",
    "class Cart:\n",
    "    def __init__(self):\n",
    "        self.groceries = {}  # init empty dictionary \n",
    "\n",
    "    def add_item(self, item, quantity):\n",
    "        self.groceries[item] = quantity\n",
    "\n",
    "    def remove_item(self, item):\n",
    "        if item in self.groceries:\n",
    "            del self.groceries[item]\n",
    "        else:\n",
    "            print(\"That's not in your cart.\")\n",
    "\n",
    "    def show_items(self):\n",
    "        for item, quantity in self.groceries.items():\n",
    "            print(f'You have {quantity} of {item}')\n",
    "\n",
    "\n",
    "def your_bag():\n",
    "    cart = Cart()  #  instance of the Cart class\n",
    "\n",
    "    while True:\n",
    "        x = input('What do you want to do? (\"Add item\"/ \"Delete item\"/ \"Check out\"/ OR \"Quit\") ?')\n",
    "        if x.lower() == \"quit\":\n",
    "            print(\"Thank you for using this program!\")\n",
    "            break\n",
    "\n",
    "        elif x.lower() == \"add item\":\n",
    "            item = input(\"Enter what you'd like to add to your cart: \")\n",
    "            quantity = input(\"How many do you want to get?\")\n",
    "            cart.add_item(item, quantity)  \n",
    "            clear_output()\n",
    "            cart.show_items()\n",
    "\n",
    "        elif x.lower() == \"delete item\":\n",
    "            clear_output()\n",
    "            cart.show_items()\n",
    "            item = input(\"What would you like to delete?\")\n",
    "            cart.remove_item(item)  # ca\n",
    "            \n",
    "        elif x.lower() == \"check out\":\n",
    "            clear_output()\n",
    "            print(\"Here's your cart: \")\n",
    "            cart.show_items()\n",
    "\n",
    "        else:\n",
    "            print(\"Please try again\")\n",
    "    return\n",
    "\n",
    "\n",
    "your_bag()\n"
   ]
  },
  {
   "cell_type": "markdown",
   "metadata": {},
   "source": [
    "### Exercise 2 - Write a Python class which has two methods get_String and print_String. get_String \n",
    "### accept a string from the user and print_String print the string in upper case"
   ]
  },
  {
   "cell_type": "code",
   "execution_count": 3,
   "metadata": {},
   "outputs": [
    {
     "name": "stdout",
     "output_type": "stream",
     "text": [
      "Enter a string here: what are you doing\n",
      "WHAT ARE YOU DOING\n"
     ]
    }
   ],
   "source": [
    "class String():\n",
    "    def __init__(self):\n",
    "        self.string1 = ''\n",
    "\n",
    "    def get_string(self):\n",
    "        self.string1 = input('Enter a string here: ')\n",
    "    \n",
    "    def print_string(self):\n",
    "        print(self.string1.upper())\n",
    "\n",
    "string1 = String()\n",
    "string1.get_string()\n",
    "string1.print_string()"
   ]
  },
  {
   "cell_type": "code",
   "execution_count": null,
   "metadata": {},
   "outputs": [],
   "source": []
  },
  {
   "cell_type": "markdown",
   "metadata": {},
   "source": [
    "### X"
   ]
  },
  {
   "cell_type": "code",
   "execution_count": null,
   "metadata": {},
   "outputs": [],
   "source": []
  }
 ],
 "metadata": {
  "kernelspec": {
   "display_name": "Python 3 (ipykernel)",
   "language": "python",
   "name": "python3"
  },
  "language_info": {
   "codemirror_mode": {
    "name": "ipython",
    "version": 3
   },
   "file_extension": ".py",
   "mimetype": "text/x-python",
   "name": "python",
   "nbconvert_exporter": "python",
   "pygments_lexer": "ipython3",
   "version": "3.9.13"
  },
  "vscode": {
   "interpreter": {
    "hash": "448ff0ee6408167c8dcd2d8500ff09065e21c8ab22b003cd1a81c67952400c22"
   }
  }
 },
 "nbformat": 4,
 "nbformat_minor": 2
}
